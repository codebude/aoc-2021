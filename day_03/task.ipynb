{
 "cells": [
  {
   "cell_type": "code",
   "execution_count": 69,
   "metadata": {},
   "outputs": [],
   "source": [
    "# import ...\n",
    "\n",
    "# Load data\n",
    "lines = [[int(y) for y in list(x.replace(\"\\n\",\"\"))] for x in open(\"input.txt\").readlines()]"
   ]
  },
  {
   "cell_type": "markdown",
   "metadata": {},
   "source": [
    "## Part 1\n",
    "> What is the power consumption of the submarine?"
   ]
  },
  {
   "cell_type": "code",
   "execution_count": 70,
   "metadata": {},
   "outputs": [
    {
     "name": "stdout",
     "output_type": "stream",
     "text": [
      "1458194\n"
     ]
    }
   ],
   "source": [
    "result_gamma = int(\"\".join([ \"1\" if (sum([y[i] for y in lines]) > len(lines) / 2) else \"0\"\n",
    "               for i, v in enumerate(lines[0])]), 2)\n",
    "result = result_gamma * (result_gamma ^ 4095)\n",
    "print(result)"
   ]
  },
  {
   "cell_type": "markdown",
   "metadata": {},
   "source": [
    "## Part 2\n",
    "> What is the life support rating of the submarine?"
   ]
  },
  {
   "cell_type": "code",
   "execution_count": 71,
   "metadata": {},
   "outputs": [
    {
     "name": "stdout",
     "output_type": "stream",
     "text": [
      "2829354\n"
     ]
    }
   ],
   "source": [
    "class HealthRates:\n",
    "    lines = []\n",
    "    def __init__(self, lines):\n",
    "        self.lines = lines\n",
    "        return\n",
    "\n",
    "    def _most_common(self, i, l):\n",
    "        return 1 if sum([y[i] for y in l]) >= len(l) / 2 else 0\n",
    "\n",
    "    def _int_arr_to_str(self, arr):\n",
    "        return \"\".join([str(x) for x in arr])\n",
    "\n",
    "    def _get_rate(self, m_common: bool, i: int = 0, l: list = None) -> int:\n",
    "        l = l or self.lines\n",
    "        l = [x for x in l if x[i] ^ (0 if m_common else 1) == self._most_common(i, l)]\n",
    "        if len(l) == 1:\n",
    "            return int(self._int_arr_to_str(l[0]),2)\n",
    "        else:\n",
    "            return self._get_rate(m_common, i+1, l)\n",
    "\n",
    "    def get_o2_rate(self):\n",
    "        return self._get_rate(True)\n",
    "        \n",
    "    def get_co2_rate(self):\n",
    "        return self._get_rate(False)\n",
    "\n",
    "    def get_life_support_rate(self):\n",
    "        return self.get_o2_rate() * self.get_co2_rate()\n",
    "\n",
    "\n",
    "result = HealthRates(lines).get_life_support_rate()\n",
    "print(result)"
   ]
  }
 ],
 "metadata": {
  "interpreter": {
   "hash": "20d2fb5681eadd3d7e80224cb54f791c4b9f5c0fc52a6b0b6a66aeadc1a25de4"
  },
  "kernelspec": {
   "display_name": "Python 3.7.3 64-bit ('.venv': venv)",
   "language": "python",
   "name": "python3"
  },
  "language_info": {
   "codemirror_mode": {
    "name": "ipython",
    "version": 3
   },
   "file_extension": ".py",
   "mimetype": "text/x-python",
   "name": "python",
   "nbconvert_exporter": "python",
   "pygments_lexer": "ipython3",
   "version": "3.7.3"
  },
  "orig_nbformat": 4
 },
 "nbformat": 4,
 "nbformat_minor": 2
}
