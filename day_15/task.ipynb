{
 "cells": [
  {
   "cell_type": "markdown",
   "metadata": {},
   "source": [
    "## Part 1 (Dijkstra algorithm)\n",
    "> What is the lowest total risk of any path from the top left to the bottom right?"
   ]
  },
  {
   "cell_type": "code",
   "execution_count": 10,
   "metadata": {},
   "outputs": [
    {
     "name": "stdout",
     "output_type": "stream",
     "text": [
      "Target found! _cost=811\n",
      "Target found! _cost=3012\n"
     ]
    }
   ],
   "source": [
    "import copy\n",
    "from queue import PriorityQueue\n",
    "\n",
    "class MeshX:    \n",
    "\n",
    "    def __init__(self, nodes_in, expand_by:int = 0):\n",
    "        self.nodes = {}\n",
    "        self.handled = {}\n",
    "        self.p_queue = PriorityQueue()        \n",
    "        self.nodes = nodes_in\n",
    "        if expand_by > 0:\n",
    "            self._expand(expand_by)\n",
    "        self._final_note = list(self.nodes.keys())[-1]\n",
    "        self.p_queue.put((0,(0,0)))\n",
    "        self.handled [(0,0)] = True\n",
    "        return\n",
    "\n",
    "    def _expand(self, factor: int):\n",
    "        target_node_key = list(self.nodes.keys())[-1]\n",
    "        dim = (target_node_key[0]+1,target_node_key[1]+1)\n",
    "        for f1 in range(1, factor+1):\n",
    "            for f2 in range(1, factor+1):\n",
    "                if f1 == 1 and f2 == 1:\n",
    "                    continue\n",
    "                for y in range(dim[1]):\n",
    "                    for x in range(dim[0]):\n",
    "                        src_v = self.nodes.get((x,y))\n",
    "                        f = f1+f2-2\n",
    "                        v = src_v+f if src_v+f <= 9 else (src_v+f)%10+1                    \n",
    "                        x_n = x+(f2-1)*dim[1]\n",
    "                        y_n = y+(f1-1)*dim[0]\n",
    "                        self.nodes[(x_n, y_n)] = v\n",
    "\n",
    "    def get_neighbor_keys(self, key: tuple[int,int]):\n",
    "        x, y = key\n",
    "        keys = [(x-1,y),(x+1,y),(x,y-1),(x,y+1)]\n",
    "        return (x for x in keys if x in self.nodes and not x in self.handled)\n",
    "    \n",
    "    def get_lowest_cost_node(self) -> tuple[int,int]:\n",
    "        return self.p_queue.get()\n",
    "\n",
    "    def solve_dijkstra(self):  \n",
    "        while self.p_queue.not_empty:\n",
    "            _cost, _node_key = self.get_lowest_cost_node()\n",
    "            if _node_key == self._final_note:\n",
    "                print(f\"Target found! {_cost=}\")\n",
    "                break\n",
    "            for nei_key in self.get_neighbor_keys(_node_key):                  \n",
    "                self.p_queue.put((_cost+self.nodes[nei_key],nei_key))                  \n",
    "                self.handled[nei_key] = True                      \n",
    "            self.handled[_node_key] = True      \n",
    "         \n",
    "    \n",
    "   \n",
    "mesh = MeshX({k:v for sublist in [{(x, y): int(val) for x, val in enumerate(list(row))} for y, row in enumerate(open(\"input.txt\").read().splitlines())] for k,v in sublist.items()})\n",
    "mesh.solve_dijkstra()\n",
    "\n",
    "mesh = MeshX({k:v for sublist in [{(x, y): int(val) for x, val in enumerate(list(row))} for y, row in enumerate(open(\"input.txt\").read().splitlines())] for k,v in sublist.items()},\n",
    "             expand_by=5)\n",
    "mesh.solve_dijkstra()"
   ]
  }
 ],
 "metadata": {
  "interpreter": {
   "hash": "20d2fb5681eadd3d7e80224cb54f791c4b9f5c0fc52a6b0b6a66aeadc1a25de4"
  },
  "kernelspec": {
   "display_name": "Python 3.7.3 64-bit ('.venv': venv)",
   "language": "python",
   "name": "python3"
  },
  "language_info": {
   "codemirror_mode": {
    "name": "ipython",
    "version": 3
   },
   "file_extension": ".py",
   "mimetype": "text/x-python",
   "name": "python",
   "nbconvert_exporter": "python",
   "pygments_lexer": "ipython3",
   "version": "3.10.0"
  },
  "orig_nbformat": 4
 },
 "nbformat": 4,
 "nbformat_minor": 2
}
