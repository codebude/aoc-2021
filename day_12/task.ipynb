{
 "cells": [
  {
   "cell_type": "code",
   "execution_count": 77,
   "metadata": {},
   "outputs": [],
   "source": [
    "from anytree import Node, RenderTree\n",
    "from collections import Counter"
   ]
  },
  {
   "cell_type": "markdown",
   "metadata": {},
   "source": [
    "## Part 1\n",
    "> How many paths through this cave system are there that visit small caves at most once?"
   ]
  },
  {
   "cell_type": "code",
   "execution_count": 78,
   "metadata": {},
   "outputs": [
    {
     "data": {
      "text/plain": [
       "4691"
      ]
     },
     "execution_count": 78,
     "metadata": {},
     "output_type": "execute_result"
    }
   ],
   "source": [
    "inp = [x.split(\"-\") for x in open(\"input.txt\").read().splitlines()]\n",
    "\n",
    "def build_tree(n: Node = Node(\"start\", parent=None)):   \n",
    "    nodes = [n] \n",
    "    for a, b in inp:\n",
    "        if a == n.name and (b.isupper() or b not in [x.name for x in n.path]):           \n",
    "            nodes = nodes + ([Node(b, parent=n)] if b == \"end\" else build_tree(Node(b, parent=n)))\n",
    "        if a != \"start\" and b == n.name and (a.isupper() or a not in [x.name for x in n.path]):           \n",
    "            nodes = nodes + build_tree(Node(a, parent=n))\n",
    "    return nodes\n",
    "\n",
    "nodes = build_tree()\n",
    "sum([1 if x.name == \"end\" else 0 for x in nodes])\n",
    "# Render tree\n",
    "#for pre, fill, node in RenderTree(nodes[0]):\n",
    "#    print(\"%s%s\" % (pre, node.name))\n",
    "\n"
   ]
  },
  {
   "cell_type": "markdown",
   "metadata": {},
   "source": [
    "## Part 2\n",
    "> Given these new rules, how many paths through this cave system are there?"
   ]
  },
  {
   "cell_type": "code",
   "execution_count": 87,
   "metadata": {},
   "outputs": [
    {
     "name": "stdout",
     "output_type": "stream",
     "text": [
      "140718\n"
     ]
    }
   ],
   "source": [
    "inp = [x.split(\"-\") for x in open(\"input.txt\").read().splitlines()]\n",
    "\n",
    "def build_tree(n: Node = Node(\"start\", parent=None)):   \n",
    "    nodes = [n] \n",
    "    double_in_use = any([v > 1 for k, v in Counter(x.name for x in n.path if x.name.islower()).items()])\n",
    "    for a, b in inp:\n",
    "        if a == n.name and b != \"start\" and (b.isupper() or not double_in_use or b not in [x.name for x in n.path]):\n",
    "            nodes = nodes + ([Node(b, parent=n)] if b == \"end\" else build_tree(Node(b, parent=n)))\n",
    "        if b == n.name and a != \"start\" and b != \"end\" and (a.isupper() or not double_in_use or a not in [x.name for x in n.path]):           \n",
    "            nodes = nodes + build_tree(Node(a, parent=n))\n",
    "    return nodes\n",
    "\n",
    "nodes = build_tree()\n",
    "print(sum([1 if x.name == \"end\" else 0 for x in nodes]))\n"
   ]
  }
 ],
 "metadata": {
  "interpreter": {
   "hash": "20d2fb5681eadd3d7e80224cb54f791c4b9f5c0fc52a6b0b6a66aeadc1a25de4"
  },
  "kernelspec": {
   "display_name": "Python 3.7.3 64-bit ('.venv': venv)",
   "language": "python",
   "name": "python3"
  },
  "language_info": {
   "codemirror_mode": {
    "name": "ipython",
    "version": 3
   },
   "file_extension": ".py",
   "mimetype": "text/x-python",
   "name": "python",
   "nbconvert_exporter": "python",
   "pygments_lexer": "ipython3",
   "version": "3.10.0"
  },
  "orig_nbformat": 4
 },
 "nbformat": 4,
 "nbformat_minor": 2
}
