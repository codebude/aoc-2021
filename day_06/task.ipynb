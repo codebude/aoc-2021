{
 "cells": [
  {
   "cell_type": "code",
   "execution_count": 68,
   "metadata": {},
   "outputs": [],
   "source": [
    "import numpy as np\n",
    "from itertools import zip_longest\n",
    "# Load data\n",
    "inp_txt = open(\"input.txt\").read()"
   ]
  },
  {
   "cell_type": "markdown",
   "metadata": {},
   "source": [
    "## Part 1 / 2\n",
    "> Find a way to simulate lanternfish. How many lanternfish would there be after 80 / 256 days?"
   ]
  },
  {
   "cell_type": "code",
   "execution_count": 84,
   "metadata": {},
   "outputs": [
    {
     "name": "stdout",
     "output_type": "stream",
     "text": [
      "After 80 days: 359999\n",
      "After 256 days: 1631647919273\n"
     ]
    }
   ],
   "source": [
    "def evolve(nums, cycles: int) -> int:        \n",
    "    nums = dict(zip(list(nums.keys())[-1:]+list(nums.keys())[:-1], nums.update({7: nums[7]+nums[0]}) or nums.values()))\n",
    "    return sum([v for i, v in nums.items()]) if cycles == 1 else evolve(nums, cycles - 1)\n",
    "\n",
    "inp = dict(zip_longest(range(9), [], fillvalue=0)) | dict(zip(*np.unique([int(x) for x in inp_txt.split(\",\")], return_counts=True)))\n",
    "print(f\"After 80 days: {evolve(inp, 80)}\\nAfter 256 days: {evolve(inp, 256)}\")"
   ]
  }
 ],
 "metadata": {
  "interpreter": {
   "hash": "20d2fb5681eadd3d7e80224cb54f791c4b9f5c0fc52a6b0b6a66aeadc1a25de4"
  },
  "kernelspec": {
   "display_name": "Python 3.7.3 64-bit ('.venv': venv)",
   "language": "python",
   "name": "python3"
  },
  "language_info": {
   "codemirror_mode": {
    "name": "ipython",
    "version": 3
   },
   "file_extension": ".py",
   "mimetype": "text/x-python",
   "name": "python",
   "nbconvert_exporter": "python",
   "pygments_lexer": "ipython3",
   "version": "3.10.0"
  },
  "orig_nbformat": 4
 },
 "nbformat": 4,
 "nbformat_minor": 2
}
