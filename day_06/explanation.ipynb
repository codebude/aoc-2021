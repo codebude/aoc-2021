{
 "cells": [
  {
   "cell_type": "code",
   "execution_count": 30,
   "metadata": {},
   "outputs": [],
   "source": [
    "import numpy as np\n",
    "from itertools import zip_longest\n",
    "# Load data\n",
    "inp_txt = open(\"input.txt\").read()"
   ]
  },
  {
   "cell_type": "markdown",
   "metadata": {},
   "source": [
    "## Part \"Demo\"\n",
    "\n",
    "Create dictionary for range 0..8. zip_longest merges two lists and takes the longer as leading list\n",
    "Since second list `[]` is an empty array, we set `fillvalue=0` to set `0` as value for every key in `range(9)`."
   ]
  },
  {
   "cell_type": "code",
   "execution_count": 31,
   "metadata": {},
   "outputs": [
    {
     "name": "stdout",
     "output_type": "stream",
     "text": [
      "i1={0: 0, 1: 0, 2: 0, 3: 0, 4: 0, 5: 0, 6: 0, 7: 0, 8: 0}\n"
     ]
    }
   ],
   "source": [
    "i1 = dict(zip_longest(range(9), [], fillvalue=0))\n",
    "print(f\"{i1=}\")"
   ]
  },
  {
   "cell_type": "markdown",
   "metadata": {},
   "source": [
    "Split input line to array of ints"
   ]
  },
  {
   "cell_type": "code",
   "execution_count": 32,
   "metadata": {},
   "outputs": [
    {
     "name": "stdout",
     "output_type": "stream",
     "text": [
      "arr_int=[5, 3, 2, 2, 1, 1, 4, 1, 5, 5, 1, 3, 1, 5, 1, 2, 1, 4, 1, 2, 1, 2, 1, 4, 2, 4, 1, 5, 1, 3, 5, 4, 3, 3, 1, 4, 1, 3, 4, 4, 1, 5, 4, 3, 3, 2, 5, 1, 1, 3, 1, 4, 3, 2, 2, 3, 1, 3, 1, 3, 1, 5, 3, 5, 1, 3, 1, 4, 2, 1, 4, 1, 5, 5, 5, 2, 4, 2, 1, 4, 1, 3, 5, 5, 1, 4, 1, 1, 4, 2, 2, 1, 3, 1, 1, 1, 1, 3, 4, 1, 4, 1, 1, 1, 4, 4, 4, 1, 3, 1, 3, 4, 1, 4, 1, 2, 2, 2, 5, 4, 1, 3, 1, 2, 1, 4, 1, 4, 5, 2, 4, 5, 4, 1, 2, 1, 4, 2, 2, 2, 1, 3, 5, 2, 5, 1, 1, 4, 5, 4, 3, 2, 4, 1, 5, 2, 2, 5, 1, 4, 1, 5, 1, 3, 5, 1, 2, 1, 1, 1, 5, 4, 4, 5, 1, 1, 1, 4, 1, 3, 3, 5, 5, 1, 5, 2, 1, 1, 3, 1, 1, 3, 2, 3, 4, 4, 1, 5, 5, 3, 2, 1, 1, 1, 4, 3, 1, 3, 3, 1, 1, 2, 2, 1, 2, 2, 2, 1, 1, 5, 1, 2, 2, 5, 2, 4, 1, 1, 2, 4, 1, 2, 3, 4, 1, 2, 1, 2, 4, 2, 1, 1, 5, 3, 1, 4, 4, 4, 1, 5, 2, 3, 4, 4, 1, 5, 1, 2, 2, 4, 1, 1, 2, 1, 1, 1, 1, 5, 1, 3, 3, 1, 1, 1, 1, 4, 1, 2, 2, 5, 1, 2, 1, 3, 4, 1, 3, 4, 3, 3, 1, 1, 5, 5, 5, 2, 4, 3, 1, 4]\n"
     ]
    }
   ],
   "source": [
    "arr_int = [int(x) for x in inp_txt.split(\",\")]\n",
    "print(f\"{arr_int=}\")"
   ]
  },
  {
   "cell_type": "markdown",
   "metadata": {},
   "source": [
    "Run \"Grouby\" to count the fishs for every day"
   ]
  },
  {
   "cell_type": "code",
   "execution_count": 33,
   "metadata": {},
   "outputs": [
    {
     "name": "stdout",
     "output_type": "stream",
     "text": [
      "gp=(array([1, 2, 3, 4, 5]), array([109,  52,  43,  54,  42], dtype=int64))\n"
     ]
    }
   ],
   "source": [
    "gp = np.unique(arr_int, return_counts=True)\n",
    "print(f\"{gp=}\")"
   ]
  },
  {
   "cell_type": "markdown",
   "metadata": {},
   "source": [
    "Build dict from gp. Attention: usually zip takes two arrays of same length and merges them like a zipper. Since gp is a list containing two lists, we have to unpack it. This is done by using `*` to unpack `gp`."
   ]
  },
  {
   "cell_type": "code",
   "execution_count": 34,
   "metadata": {},
   "outputs": [
    {
     "name": "stdout",
     "output_type": "stream",
     "text": [
      "i2={1: 109, 2: 52, 3: 43, 4: 54, 5: 42}\n"
     ]
    }
   ],
   "source": [
    "i2 = dict(zip(*gp))\n",
    "print(f\"{i2=}\") "
   ]
  },
  {
   "cell_type": "markdown",
   "metadata": {},
   "source": [
    "Now we have to dicts. One (`inp1`) containing all days/indexes, but with all values `0`. And one (`inp2`) containing all the start populations for each day, but not for all days. By help of the `|`-operator we can easily merge them."
   ]
  },
  {
   "cell_type": "code",
   "execution_count": 35,
   "metadata": {},
   "outputs": [
    {
     "name": "stdout",
     "output_type": "stream",
     "text": [
      "inp={0: 0, 1: 109, 2: 52, 3: 43, 4: 54, 5: 42, 6: 0, 7: 0, 8: 0}\n"
     ]
    }
   ],
   "source": [
    "inp =  i1 | i2\n",
    "print(f\"{inp=}\")"
   ]
  },
  {
   "cell_type": "markdown",
   "metadata": {},
   "source": [
    "Now we only have to call the `evolve`-function and pass the input and the cycles/evolutions to be run..."
   ]
  },
  {
   "cell_type": "code",
   "execution_count": 36,
   "metadata": {},
   "outputs": [
    {
     "name": "stdout",
     "output_type": "stream",
     "text": [
      "cycles=3, population={0: 0, 1: 109, 2: 52, 3: 43, 4: 54, 5: 42, 6: 0, 7: 0, 8: 0}\n",
      "Current keys: dict_keys([0, 1, 2, 3, 4, 5, 6, 7, 8])\n",
      "Rotated keys:           [8, 0, 1, 2, 3, 4, 5, 6, 7]\n",
      "Current values: dict_values([0, 109, 52, 43, 54, 42, 0, 0, 0])\n",
      "Manipula. vals: dict_values([0, 109, 52, 43, 54, 42, 0, 0, 0])\n",
      "Manipulated nums/dict: {8: 0, 0: 109, 1: 52, 2: 43, 3: 54, 4: 42, 5: 0, 6: 0, 7: 0}\n",
      "===========================\n",
      "cycles=2, population={8: 0, 0: 109, 1: 52, 2: 43, 3: 54, 4: 42, 5: 0, 6: 0, 7: 0}\n",
      "Current keys: dict_keys([8, 0, 1, 2, 3, 4, 5, 6, 7])\n",
      "Rotated keys:           [7, 8, 0, 1, 2, 3, 4, 5, 6]\n",
      "Current values: dict_values([0, 109, 52, 43, 54, 42, 0, 0, 0])\n",
      "Manipula. vals: dict_values([0, 109, 52, 43, 54, 42, 0, 0, 109])\n",
      "Manipulated nums/dict: {7: 0, 8: 109, 0: 52, 1: 43, 2: 54, 3: 42, 4: 0, 5: 0, 6: 109}\n",
      "===========================\n",
      "cycles=1, population={7: 0, 8: 109, 0: 52, 1: 43, 2: 54, 3: 42, 4: 0, 5: 0, 6: 109}\n",
      "Current keys: dict_keys([7, 8, 0, 1, 2, 3, 4, 5, 6])\n",
      "Rotated keys:           [6, 7, 8, 0, 1, 2, 3, 4, 5]\n",
      "Current values: dict_values([0, 109, 52, 43, 54, 42, 0, 0, 109])\n",
      "Manipula. vals: dict_values([52, 109, 52, 43, 54, 42, 0, 0, 109])\n",
      "Manipulated nums/dict: {6: 52, 7: 109, 8: 52, 0: 43, 1: 54, 2: 42, 3: 0, 4: 0, 5: 109}\n",
      "===========================\n",
      "After 80 days: 461\n"
     ]
    }
   ],
   "source": [
    "def evolve(nums, cycles: int) -> int:\n",
    "    print(f\"{cycles=}, population={nums}\")\n",
    "    # In each cycle we have to lower the day count until the next birth.\n",
    "    # We could either move the fish-count from nums[1] to nums[0] (and do it for every other position) \n",
    "    # or (and thats is what we do) we instead move the indexes.\n",
    "    print(f\"Current keys: {nums.keys()}\")\n",
    "\n",
    "    last_key = list(nums.keys())[-1:] #Pick from index -1 (last el-1)\n",
    "    all_but_last_key = list(nums.keys())[:-1] #Pick up to index -1 (last el-1)\n",
    "    rotated_keys = last_key+all_but_last_key #Join them together\n",
    "    print(f\"Rotated keys:           {rotated_keys}\")\n",
    "\n",
    "    # By roting every fish that was in day 3 is now in day 2, day 2 becomes day 1, ...\n",
    "    # and day 0 becomes to(?) day 8(!). So we automatically spawn a new baby fish at day 8 for each fish in day 0\n",
    "    # Hm, but what about the birthgiving fish? Each mother fish from day 0 should also move to day 6!\n",
    "    # Thats why we also have to update the values and not only the keys. Thus we simply add the amount of fish from day 0\n",
    "    # to day 6. Problem solved! (We add them instead of setting them, because there could be already fish from day 7...)\n",
    "\n",
    "    # With update we update the fish dict with a new value (nums[7]+nums[0]) at index 7. (We use 7 instead of six, because we haven't rotated yet.)\n",
    "    # Since update is in-place and doesn't return any value we use \"or\" to get a value, if left-hand is None. TL;DR: Update takes place,\n",
    "    # returns \"None\" thus \"or\" kicks in and returns value (which are now updated)\n",
    "    print(f\"Current values: {nums.values()}\")\n",
    "    new_values = nums.update({7: nums[7]+nums[0]}) or nums.values()\n",
    "    print(f\"Manipula. vals: {new_values}\")\n",
    "    # No we create a new dict with the rotated keys and the patched values\n",
    "    nums = dict(zip(rotated_keys, new_values))\n",
    "    print(f\"Manipulated nums/dict: {nums}\\n===========================\")\n",
    "\n",
    "    # Note: The below is a short hand for if-else\n",
    "    # If we are in the last cycle (cycles==1) then we build the sum, for each value of our dict. Since the values reflect the fish count per day we get the total fish count\n",
    "    # If we aren't in the last cycle, we call evolve with cycles-1 and our current fish state dict.\n",
    "    return sum([v for i, v in nums.items()]) if cycles == 1 else evolve(nums, cycles - 1)\n",
    "\n",
    "print(f\"After 80 days: {evolve(inp, 3)}\")"
   ]
  }
 ],
 "metadata": {
  "interpreter": {
   "hash": "20d2fb5681eadd3d7e80224cb54f791c4b9f5c0fc52a6b0b6a66aeadc1a25de4"
  },
  "kernelspec": {
   "display_name": "Python 3.7.3 64-bit ('.venv': venv)",
   "language": "python",
   "name": "python3"
  },
  "language_info": {
   "codemirror_mode": {
    "name": "ipython",
    "version": 3
   },
   "file_extension": ".py",
   "mimetype": "text/x-python",
   "name": "python",
   "nbconvert_exporter": "python",
   "pygments_lexer": "ipython3",
   "version": "3.10.0"
  },
  "orig_nbformat": 4
 },
 "nbformat": 4,
 "nbformat_minor": 2
}
