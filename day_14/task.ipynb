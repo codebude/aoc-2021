{
 "cells": [
  {
   "cell_type": "code",
   "execution_count": 6,
   "metadata": {},
   "outputs": [],
   "source": [
    "from collections import Counter\n",
    "from collections import defaultdict\n",
    "import re"
   ]
  },
  {
   "cell_type": "markdown",
   "metadata": {},
   "source": [
    "## Part 1 (Simple)\n",
    "> Apply 10 steps of pair insertion to the polymer template and find the most and least common elements in the result. What do you get if you take the quantity of the most common element and subtract the quantity of the least common element?"
   ]
  },
  {
   "cell_type": "code",
   "execution_count": 72,
   "metadata": {},
   "outputs": [
    {
     "name": "stdout",
     "output_type": "stream",
     "text": [
      "2937\n"
     ]
    }
   ],
   "source": [
    "# Parse input\n",
    "template, inp_instructions = open(\"input.txt\").read().split(\"\\n\\n\")\n",
    "rules = {re.search(r\"(\\w+) -> (\\w+)\", x).group(1): re.search(r\"(\\w+) -> (\\w+)\", x).group(2) for x in inp_instructions.splitlines()}\n",
    "\n",
    "def p_insert(inp: str, d: dict):\n",
    "    out = \"\"\n",
    "    for i in range(0,len(inp)-1):\n",
    "        out += f\"{inp[i]}{d[inp[i:i+2]]}\"\n",
    "    return out + inp[-1]\n",
    "\n",
    "for i in range(0,10):\n",
    "    template = p_insert(template, rules)\n",
    "\n",
    "occurences = sorted(Counter(list(template)).items(), key=lambda item: item[1], reverse=True)\n",
    "print(occurences[0][1]-occurences[-1][1])"
   ]
  },
  {
   "cell_type": "markdown",
   "metadata": {},
   "source": [
    "## Part 2 (Fast)\n",
    "> Apply 40 steps of pair insertion to the polymer template and find the most and least common elements in the result. What do you get if you take the quantity of the most common element and subtract the quantity of the least common element?\n",
    "\n"
   ]
  },
  {
   "cell_type": "code",
   "execution_count": 106,
   "metadata": {},
   "outputs": [
    {
     "name": "stdout",
     "output_type": "stream",
     "text": [
      "3390034818249\n"
     ]
    }
   ],
   "source": [
    "# Parse input\n",
    "template, inp_instructions = open(\"input.txt\").read().split(\"\\n\\n\")\n",
    "pattern_counter = defaultdict(int, Counter([template[i:i+2] for i in range(0,len(template)-1)]))\n",
    "char_counter = defaultdict(int, Counter(list(template)))\n",
    "rules = {re.search(r\"(\\w+) -> (\\w+)\", x).group(1): re.search(r\"(\\w+) -> (\\w+)\", x).group(2) for x in inp_instructions.splitlines()}\n",
    "\n",
    "def p_insert(p_cnt: dict, c_cnt: dict, d: dict):\n",
    "    inp = p_cnt.copy()\n",
    "    for k in list(inp.keys()):        \n",
    "        inp[k] -= p_cnt[k]       \n",
    "        inp[k[0]+d[k]] += p_cnt[k]\n",
    "        inp[d[k]+k[1]] += p_cnt[k]\n",
    "        c_cnt[d[k]] += p_cnt[k]      \n",
    "    return (inp, c_cnt)\n",
    "\n",
    "for _ in range(40):\n",
    "    pattern_counter, char_counter = p_insert(pattern_counter, char_counter, rules)\n",
    "\n",
    "result = max(char_counter.values())-min(char_counter.values())\n",
    "print(result)"
   ]
  }
 ],
 "metadata": {
  "interpreter": {
   "hash": "20d2fb5681eadd3d7e80224cb54f791c4b9f5c0fc52a6b0b6a66aeadc1a25de4"
  },
  "kernelspec": {
   "display_name": "Python 3.7.3 64-bit ('.venv': venv)",
   "language": "python",
   "name": "python3"
  },
  "language_info": {
   "codemirror_mode": {
    "name": "ipython",
    "version": 3
   },
   "file_extension": ".py",
   "mimetype": "text/x-python",
   "name": "python",
   "nbconvert_exporter": "python",
   "pygments_lexer": "ipython3",
   "version": "3.10.0"
  },
  "orig_nbformat": 4
 },
 "nbformat": 4,
 "nbformat_minor": 2
}
