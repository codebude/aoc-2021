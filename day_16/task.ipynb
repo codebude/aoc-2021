{
 "cells": [
  {
   "cell_type": "markdown",
   "metadata": {},
   "source": [
    "## Part 1 & 2\n",
    "> - Decode the structure of your hexadecimal-encoded BITS transmission; what do you get if you add up the version numbers in all packets?\n",
    "> - What do you get if you evaluate the expression represented by your hexadecimal-encoded BITS transmission?"
   ]
  },
  {
   "cell_type": "code",
   "execution_count": 25,
   "metadata": {},
   "outputs": [
    {
     "name": "stdout",
     "output_type": "stream",
     "text": [
      "Sum of all version numbers: 886\n",
      "\n",
      "Equation: sum([prod([425542,lt([247,247])]),sum([121,21236]),prod([gt([sum([11,12,11]),sum([7,10,7])]),32566]),prod([lt([sum([8,7,15]),sum([6,11,10])]),4507180]),min([prod([prod([sum([prod([max([prod([min([prod([min([prod([max([sum([sum([max([sum([sum([min([prod([prod([130])])])])])])])])])])])])])])])])])])])]),139930778832,prod([gt([52,667118]),10]),602147,max([62199]),prod([14849899,lt([11716,26963])]),prod([4083,gt([135,135])]),prod([135,217,224]),73,prod([sum([13,4,9]),sum([12,15,7]),sum([13,10,9])]),min([194]),prod([182,197,136,2,242]),prod([226,142,34,124]),max([4025,186042]),min([30059,126119002]),min([9,260,162]),prod([lt([4,4]),28699]),prod([1945,eq([1714,1714])]),prod([7,lt([1545,108])]),sum([12]),prod([200,gt([31050,655605])]),3154,prod([3,lt([64896,116])]),3055,prod([13]),min([48082,226938,1175,68077774919]),sum([66,15,181,1380642642,11831587]),prod([241,59]),prod([150,gt([2742,113])]),37007908601,max([52444,11,13008816,2935]),20723,8,prod([5,gt([6241732,759708])]),sum([prod([15,7,4]),prod([14,2,12]),prod([13,6,6])]),sum([2877,229333,655820,1020971]),sum([39581,2,14]),max([982557,44,31]),68,prod([eq([11530,3492]),41177]),prod([eq([236,918711093]),3937]),max([903466,228,6,25989131,4028]),229,min([299875,10969849,11481,2281,13]),prod([55300721,gt([63,63])]),prod([244,gt([sum([7,13,7]),sum([12,5,14])])]),prod([4494263,eq([sum([4,15,4]),sum([3,3,14])])]),prod([lt([45,3307915]),58514]),prod([3596530693,lt([sum([3,12,4]),sum([9,11,2])])])])\n",
      "\n",
      "Result of equation: 184487454837\n"
     ]
    }
   ],
   "source": [
    "from pydantic import BaseModel, Field\n",
    "from typing import Optional\n",
    "from math import prod\n",
    "from pydantic import BaseModel, Field\n",
    "from typing import Optional\n",
    "from math import prod\n",
    "\n",
    "# Parse input to binary string\n",
    "inp = \"\".join([bin(int(x,16))[2:].zfill(4) for x in list(open(\"input.txt\").read())])\n",
    "\n",
    "# Helper data-class just for fun\n",
    "class Packet(BaseModel):    \n",
    "    version: int = Field(...)\n",
    "    type_id: int = Field(...)\n",
    "    payload: int = Field(None)\n",
    "    length_type_id: Optional[int] = Field(None)\n",
    "    subpacket_len: Optional[int] = Field(None)\n",
    "    subpacket_cnt: Optional[int] = Field(None)\n",
    "         \n",
    "# Type-ID to python function mapper\n",
    "ops = { 0: \"sum\", 1: \"prod\", 2: \"min\", 3: \"max\", 5: \"gt\", 6: \"lt\", 7: \"eq\" }\n",
    "\n",
    "# Missing/custom functions\n",
    "def gt(inp:list) -> int:\n",
    "    return 1 if inp[0] > inp[1] else 0\n",
    "def lt(inp:list) -> int:\n",
    "    return 1 if inp[0] < inp[1] else 0\n",
    "def eq(inp:list) -> int:\n",
    "    return 1 if inp[0] == inp[1] else 0\n",
    "\n",
    "# Recursive input parsing\n",
    "def parse(inp: str, is_sub:bool = False, sub_cnt:int = -1) -> tuple[int,str,list[Packet]]:    \n",
    "    ii, packets, equation = 6, [], \"\"\n",
    "    p = {\n",
    "        \"version\": int(inp[:3], 2),\n",
    "        \"type_id\": int(inp[3:6], 2)\n",
    "    }\n",
    "    if p[\"type_id\"] == 4: # Literal packet\n",
    "        num = \"\"\n",
    "        while True:\n",
    "            grp = inp[ii:ii+5]\n",
    "            ii += 5\n",
    "            num += grp[1:]\n",
    "            if grp[0] == \"0\":\n",
    "                break\n",
    "        p[\"payload\"] = int(num,2)\n",
    "        equation += f\"{p['payload']},\"\n",
    "    else:                 # Operator packet\n",
    "        equation += f\"{ops[p['type_id']]}([\"\n",
    "        p[\"length_type_id\"] = int(inp[6:7], 2)\n",
    "        if p[\"length_type_id\"] == 0: # 15 bit mode\n",
    "            p[\"subpacket_len\"] = int(inp[7:22], 2)\n",
    "            ii_n, equa, pp = parse(inp[22:22+p[\"subpacket_len\"]], True)\n",
    "            equation += equa\n",
    "            ii = ii_n + 22\n",
    "            packets = packets + pp           \n",
    "        else:                        # 11 bit mode\n",
    "            p[\"subpacket_cnt\"] = int(inp[7:18], 2)\n",
    "            ii_n, equa, pp = parse(inp[18:], True, sub_cnt=p[\"subpacket_cnt\"]-1)\n",
    "            equation += equa\n",
    "            ii = ii_n + 18 \n",
    "            packets = packets + pp\n",
    "        equation = equation.rstrip(\",\") + \"]),\"\n",
    "    if is_sub and ii < len(inp) and sub_cnt == -1:\n",
    "        ii_n, equa, pp = parse(inp[ii:], True)\n",
    "        equation += equa\n",
    "        ii += ii_n\n",
    "        packets = packets + pp\n",
    "    elif is_sub and sub_cnt > 0:\n",
    "        ii_n, equa, pp = parse(inp[ii:], True, sub_cnt-1)\n",
    "        equation += equa\n",
    "        ii += ii_n\n",
    "        packets = packets + pp\n",
    "    return (ii,equation.rstrip(\",\"),[Packet(**p)]+packets)\n",
    "\n",
    "# Parse input and print results\n",
    "_, equation, packets = parse(inp)\n",
    "print(f\"Sum of all version numbers: {sum((x.version for x in packets))}\\n\")\n",
    "print(f\"Equation: {equation}\\n\")\n",
    "print(f\"Result of equation: {eval(equation)}\")"
   ]
  }
 ],
 "metadata": {
  "interpreter": {
   "hash": "20d2fb5681eadd3d7e80224cb54f791c4b9f5c0fc52a6b0b6a66aeadc1a25de4"
  },
  "kernelspec": {
   "display_name": "Python 3.7.3 64-bit ('.venv': venv)",
   "language": "python",
   "name": "python3"
  },
  "language_info": {
   "codemirror_mode": {
    "name": "ipython",
    "version": 3
   },
   "file_extension": ".py",
   "mimetype": "text/x-python",
   "name": "python",
   "nbconvert_exporter": "python",
   "pygments_lexer": "ipython3",
   "version": "3.10.0"
  },
  "orig_nbformat": 4
 },
 "nbformat": 4,
 "nbformat_minor": 2
}
