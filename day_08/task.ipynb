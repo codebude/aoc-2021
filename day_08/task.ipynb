{
 "cells": [
  {
   "cell_type": "code",
   "execution_count": 2,
   "metadata": {},
   "outputs": [],
   "source": [
    "from typing import List, Dict\n",
    "import numpy as np\n",
    "# Load data\n",
    "inp = [{\"in\":[x for x in l.split(\" | \")[0].split(\" \")],\"out\":[x for x in l.split(\" | \")[1].split(\" \")]} for l in open(\"input.txt\").read().splitlines()]"
   ]
  },
  {
   "cell_type": "markdown",
   "metadata": {},
   "source": [
    "## Part 1\n",
    "> In the output values, how many times do digits 1, 4, 7, or 8 appear?"
   ]
  },
  {
   "cell_type": "code",
   "execution_count": 21,
   "metadata": {},
   "outputs": [
    {
     "name": "stdout",
     "output_type": "stream",
     "text": [
      "390\n"
     ]
    }
   ],
   "source": [
    "outs = [x[\"out\"] for x in inp]\n",
    "result=sum(sum([1 for z in y if len(z) in [2,3,4,7]]) for y in outs)\n",
    "print(result)"
   ]
  },
  {
   "cell_type": "markdown",
   "metadata": {},
   "source": [
    "## Part 2\n",
    "> For each entry, determine all of the wire/segment connections and decode the four-digit output values. What do you get if you add up all of the output values?"
   ]
  },
  {
   "cell_type": "code",
   "execution_count": 24,
   "metadata": {},
   "outputs": [
    {
     "name": "stdout",
     "output_type": "stream",
     "text": [
      "1011785\n"
     ]
    }
   ],
   "source": [
    "class SevenSegmentDisplay:\n",
    "    _digits = { \n",
    "        0: [\"a\",\"b\",\"c\",\"e\",\"f\",\"g\"],\n",
    "        1: [\"c\",\"f\"],\n",
    "        2: [\"a\",\"c\",\"d\",\"e\",\"g\"],\n",
    "        3: [\"a\",\"c\",\"d\",\"f\",\"g\"],\n",
    "        4: [\"b\",\"c\",\"d\",\"f\"],\n",
    "        5: [\"a\",\"b\",\"d\",\"f\",\"g\"],\n",
    "        6: [\"a\",\"b\",\"d\",\"e\",\"f\",\"g\"],\n",
    "        7: [\"a\",\"c\",\"f\"],\n",
    "        8: [\"a\",\"b\",\"c\",\"d\",\"e\",\"f\",\"g\"],\n",
    "        9: [\"a\",\"b\",\"c\",\"d\",\"f\",\"g\"]\n",
    "    }\n",
    "    _mapping: Dict[str, str]\n",
    "\n",
    "    def __init__(self, uniquePattens: List[str]):\n",
    "        self._mapping = { x: None for x in [\"a\",\"b\",\"c\",\"d\",\"e\",\"f\",\"g\"] }\n",
    "        self._create_mapping(uniquePattens)\n",
    "        return\n",
    "\n",
    "    def _all_in(self, a, b):\n",
    "        ax = list(a) if type(a) is str else a\n",
    "        bx = list(b) if type(b) is str else b\n",
    "        return all(x in bx for x in ax)\n",
    "\n",
    "    def _remove_chars(self, a, b):\n",
    "        return str.join(\"\", self._remove_chars_in_arr(a,b))\n",
    "\n",
    "    def _remove_chars_in_arr(self, a, b):\n",
    "        ax = list(a) if type(a) is str else a\n",
    "        bx = list(b) if type(b) is str else b\n",
    "        return [x for x in bx if x not in ax]\n",
    "\n",
    "    def _len_to_options(self, l: int):\n",
    "        return [x for x in self._digits.values() if len(x) == l]\n",
    "\n",
    "    def _create_mapping(self, p: List[str]):\n",
    "        inp = [[s, self._len_to_options(len(s))] for s in p]\n",
    "        while any(x is None for x in self._mapping.values()):\n",
    "            for k, v in [(x[0],x[1][0]) for x in inp if len(x[1]) == 1]:\n",
    "                for i in range(0,len(inp)):\n",
    "                    if inp[i][0] != k and len(inp[i][0]) > len(k) and self._all_in(k, inp[i][0]):\n",
    "                        inp[i][0] = self._remove_chars(k, inp[i][0])\n",
    "                        del_ii = []\n",
    "                        for ii in range(0,len(inp[i][1])):                            \n",
    "                            if self._all_in(v, inp[i][1][ii]):\n",
    "                                inp[i][1][ii] = self._remove_chars_in_arr(v, inp[i][1][ii])\n",
    "                            else:\n",
    "                                del_ii.append(ii)\n",
    "                        for ii in range(len(del_ii)-1,-1,-1):\n",
    "                            del inp[i][1][del_ii[ii]]\n",
    "                for x, v in [x for x in inp if len(x[0]) == 1 and len(x[1]) == 1]:\n",
    "                    self._mapping[x] = v[0][0]\n",
    "        return\n",
    "\n",
    "    def decode(self, inp: List[str]) -> int:        \n",
    "        return int(str.join(\"\",[next((str(k) for k, v in self._digits.items() if set(v) == set([self._mapping[y] for y in list(x)])), None) for x in inp]))\n",
    "\n",
    "result = sum([SevenSegmentDisplay(x[\"in\"]).decode(x[\"out\"]) for x in inp])\n",
    "print(result)"
   ]
  }
 ],
 "metadata": {
  "interpreter": {
   "hash": "20d2fb5681eadd3d7e80224cb54f791c4b9f5c0fc52a6b0b6a66aeadc1a25de4"
  },
  "kernelspec": {
   "display_name": "Python 3.7.3 64-bit ('.venv': venv)",
   "language": "python",
   "name": "python3"
  },
  "language_info": {
   "codemirror_mode": {
    "name": "ipython",
    "version": 3
   },
   "file_extension": ".py",
   "mimetype": "text/x-python",
   "name": "python",
   "nbconvert_exporter": "python",
   "pygments_lexer": "ipython3",
   "version": "3.10.0"
  },
  "orig_nbformat": 4
 },
 "nbformat": 4,
 "nbformat_minor": 2
}
