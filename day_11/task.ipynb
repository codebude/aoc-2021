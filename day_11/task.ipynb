{
 "cells": [
  {
   "cell_type": "code",
   "execution_count": 2,
   "metadata": {},
   "outputs": [],
   "source": [
    "import numpy as np"
   ]
  },
  {
   "cell_type": "markdown",
   "metadata": {},
   "source": [
    "## Part 1\n",
    "> Given the starting energy levels of the dumbo octopuses in your cavern, simulate 100 steps. How many total flashes are there after 100 steps?"
   ]
  },
  {
   "cell_type": "code",
   "execution_count": 3,
   "metadata": {},
   "outputs": [
    {
     "data": {
      "text/plain": [
       "(1617,\n",
       " 0,\n",
       " array([[0, 0, 0, 0, 0, 0, 5, 4, 4, 8],\n",
       "        [0, 8, 7, 8, 0, 7, 5, 4, 4, 4],\n",
       "        [6, 6, 4, 5, 6, 6, 6, 6, 6, 5],\n",
       "        [1, 7, 5, 5, 7, 4, 9, 2, 3, 7],\n",
       "        [1, 1, 8, 8, 1, 1, 6, 5, 6, 1],\n",
       "        [1, 1, 1, 1, 1, 1, 1, 1, 1, 1],\n",
       "        [1, 1, 1, 1, 1, 1, 1, 1, 1, 1],\n",
       "        [1, 1, 1, 1, 1, 1, 1, 1, 1, 1],\n",
       "        [1, 1, 1, 1, 1, 1, 1, 1, 1, 1],\n",
       "        [6, 1, 1, 1, 1, 1, 1, 1, 1, 8]]))"
      ]
     },
     "execution_count": 3,
     "metadata": {},
     "output_type": "execute_result"
    }
   ],
   "source": [
    "inp = np.asarray([[int(y) for y in list(x)] for x in open(\"input.txt\").read().splitlines()])\n",
    "\n",
    "def evolve(a, steps: int, flash_count: int = 0):    \n",
    "    a += 1    \n",
    "    flashed = []   \n",
    "    while np.any(a > 9):\n",
    "        for y, x in list(zip(*np.where(a > 9))):        \n",
    "            a[max(y-1, 0):min(y+2,a.shape[0]),max(x-1, 0):min(x+2,a.shape[1])] += 1\n",
    "            a[y,x] = 0\n",
    "            flashed.append((y,x))    \n",
    "    if len(flashed) > 0:\n",
    "        a[tuple([np.asarray(x) for x in zip(*flashed)])] = 0  \n",
    "        flash_count += len(flashed)\n",
    "    return (flash_count, steps, a) if steps == 0 else evolve(a, steps-1, flash_count)\n",
    "\n",
    "steps = 100\n",
    "evolve(inp, steps-1)\n"
   ]
  },
  {
   "cell_type": "markdown",
   "metadata": {},
   "source": [
    "## Part 2\n",
    "> If you can calculate the exact moments when the octopuses will all flash simultaneously, you should be able to navigate through the cavern. What is the first step during which all octopuses flash?"
   ]
  },
  {
   "cell_type": "code",
   "execution_count": 10,
   "metadata": {},
   "outputs": [
    {
     "data": {
      "text/plain": [
       "(4026,\n",
       " 258,\n",
       " array([[0, 0, 0, 0, 0, 0, 0, 0, 0, 0],\n",
       "        [0, 0, 0, 0, 0, 0, 0, 0, 0, 0],\n",
       "        [0, 0, 0, 0, 0, 0, 0, 0, 0, 0],\n",
       "        [0, 0, 0, 0, 0, 0, 0, 0, 0, 0],\n",
       "        [0, 0, 0, 0, 0, 0, 0, 0, 0, 0],\n",
       "        [0, 0, 0, 0, 0, 0, 0, 0, 0, 0],\n",
       "        [0, 0, 0, 0, 0, 0, 0, 0, 0, 0],\n",
       "        [0, 0, 0, 0, 0, 0, 0, 0, 0, 0],\n",
       "        [0, 0, 0, 0, 0, 0, 0, 0, 0, 0],\n",
       "        [0, 0, 0, 0, 0, 0, 0, 0, 0, 0]]))"
      ]
     },
     "execution_count": 10,
     "metadata": {},
     "output_type": "execute_result"
    }
   ],
   "source": [
    "inp = np.asarray([[int(y) for y in list(x)] for x in open(\"input.txt\").read().splitlines()])\n",
    "\n",
    "def evolve(a, step_counter: int = 1, flash_count: int = 0):    \n",
    "    a += 1    \n",
    "    flashed = []   \n",
    "    while np.any(a > 9):\n",
    "        for y, x in list(zip(*np.where(a > 9))):        \n",
    "            a[max(y-1, 0):min(y+2,a.shape[0]),max(x-1, 0):min(x+2,a.shape[1])] += 1\n",
    "            a[y,x] = 0\n",
    "            flashed.append((y,x))    \n",
    "    if len(flashed) > 0:\n",
    "        a[tuple([np.asarray(x) for x in zip(*flashed)])] = 0  \n",
    "        flash_count += len(flashed)\n",
    "    return (flash_count, step_counter, a) if not np.any(a>0) else evolve(a, step_counter+1, flash_count)\n",
    "evolve(inp)\n"
   ]
  }
 ],
 "metadata": {
  "interpreter": {
   "hash": "20d2fb5681eadd3d7e80224cb54f791c4b9f5c0fc52a6b0b6a66aeadc1a25de4"
  },
  "kernelspec": {
   "display_name": "Python 3.7.3 64-bit ('.venv': venv)",
   "language": "python",
   "name": "python3"
  },
  "language_info": {
   "codemirror_mode": {
    "name": "ipython",
    "version": 3
   },
   "file_extension": ".py",
   "mimetype": "text/x-python",
   "name": "python",
   "nbconvert_exporter": "python",
   "pygments_lexer": "ipython3",
   "version": "3.10.0"
  },
  "orig_nbformat": 4
 },
 "nbformat": 4,
 "nbformat_minor": 2
}
