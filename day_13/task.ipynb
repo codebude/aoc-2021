{
 "cells": [
  {
   "cell_type": "code",
   "execution_count": 251,
   "metadata": {},
   "outputs": [],
   "source": [
    "import numpy as np\n",
    "import re"
   ]
  },
  {
   "cell_type": "markdown",
   "metadata": {},
   "source": [
    "## Part 1 & 2\n",
    "> How many dots are visible after completing just the first fold instruction on your transparent paper?"
   ]
  },
  {
   "cell_type": "code",
   "execution_count": 252,
   "metadata": {},
   "outputs": [
    {
     "name": "stdout",
     "output_type": "stream",
     "text": [
      "695 dots visible\n",
      " ##    ## ####  ##  #    #  # ###    ## \n",
      "#  #    #    # #  # #    #  # #  #    # \n",
      "#       #   #  #    #    #  # #  #    # \n",
      "# ##    #  #   # ## #    #  # ###     # \n",
      "#  # #  # #    #  # #    #  # #    #  # \n",
      " ###  ##  ####  ### ####  ##  #     ##  \n"
     ]
    }
   ],
   "source": [
    "# Parse input\n",
    "inp_coords, inp_instructions = open(\"input.txt\").read().split(\"\\n\\n\")\n",
    "coords = tuple(tuple(x) for x in np.flip(np.asarray([x.split(\",\") for x in inp_coords.splitlines()], dtype=np.int32).T, axis=0))\n",
    "instructions = [(re.search(r\"([xy])=(\\d+)\", x).group(1),int(re.search(r\"([xy])=(\\d+)\", x).group(2))) for x in inp_instructions.splitlines()]\n",
    "\n",
    "# Create matrix\n",
    "mat = np.zeros((max(coords[0])+1,max(coords[1])+1))\n",
    "mat[coords] = 1\n",
    "\n",
    "#Flip func\n",
    "def flip(m, i):\n",
    "    if i[0] == \"y\":     \n",
    "        c = np.zeros((i[1],m.shape[1]))\n",
    "        c[:m.shape[0]-i[1]-1,:m.shape[1]] = m[i[1]+1:]\n",
    "        return m[0:i[1]] + np.flipud(c)\n",
    "    else:                        \n",
    "        c = np.zeros((m.shape[0],i[1]))\n",
    "        c[:m.shape[0],:m.shape[1]-i[1]-1] = m[0:,i[1]+1:]\n",
    "        return m[0:,0:i[1]] + np.fliplr(c)    \n",
    "\n",
    "#Flip once and count\n",
    "for i, ins in enumerate(instructions):\n",
    "    mat = flip(mat, ins)\n",
    "    if i == 0:\n",
    "        print(f\"{np.count_nonzero(mat)} dots visible\")\n",
    "\n",
    "#print(mat)\n",
    "for y in mat:\n",
    "    print(str.join(\"\", [\"#\" if x > 0 else \" \" for x in y]))\n",
    "\n"
   ]
  }
 ],
 "metadata": {
  "interpreter": {
   "hash": "20d2fb5681eadd3d7e80224cb54f791c4b9f5c0fc52a6b0b6a66aeadc1a25de4"
  },
  "kernelspec": {
   "display_name": "Python 3.7.3 64-bit ('.venv': venv)",
   "language": "python",
   "name": "python3"
  },
  "language_info": {
   "codemirror_mode": {
    "name": "ipython",
    "version": 3
   },
   "file_extension": ".py",
   "mimetype": "text/x-python",
   "name": "python",
   "nbconvert_exporter": "python",
   "pygments_lexer": "ipython3",
   "version": "3.10.0"
  },
  "orig_nbformat": 4
 },
 "nbformat": 4,
 "nbformat_minor": 2
}
