{
 "cells": [
  {
   "cell_type": "code",
   "execution_count": 4,
   "metadata": {},
   "outputs": [],
   "source": [
    "# import ...\n",
    "\n",
    "# Load data\n",
    "lines = [int(x) for x in open(\"input.txt\").readlines()]"
   ]
  },
  {
   "cell_type": "markdown",
   "metadata": {},
   "source": [
    "## Part 1\n",
    "> How many measurements are larger than the previous measurement?"
   ]
  },
  {
   "cell_type": "code",
   "execution_count": 5,
   "metadata": {},
   "outputs": [
    {
     "name": "stdout",
     "output_type": "stream",
     "text": [
      "1527 of 2000 lines were increasing\n"
     ]
    }
   ],
   "source": [
    "result = sum((x > lines[i-1] for i, x in enumerate(lines) if i > 0))\n",
    "print(f\"{result} of {len(lines)} lines were increasing\")"
   ]
  },
  {
   "cell_type": "markdown",
   "metadata": {},
   "source": [
    "## Part 2\n",
    "> How many sums are larger than the previous sum?"
   ]
  },
  {
   "cell_type": "code",
   "execution_count": 10,
   "metadata": {},
   "outputs": [
    {
     "name": "stdout",
     "output_type": "stream",
     "text": [
      "1575 of 2000 lines were increasing\n"
     ]
    }
   ],
   "source": [
    "result = sum((sum(lines[i-2:i+1]) > sum(lines[i-3:i])\n",
    "              for i in range(3,len(lines))))\n",
    "print(f\"{result} of {len(lines)} lines were increasing\")"
   ]
  }
 ],
 "metadata": {
  "interpreter": {
   "hash": "20d2fb5681eadd3d7e80224cb54f791c4b9f5c0fc52a6b0b6a66aeadc1a25de4"
  },
  "kernelspec": {
   "display_name": "Python 3.7.3 64-bit ('.venv': venv)",
   "language": "python",
   "name": "python3"
  },
  "language_info": {
   "codemirror_mode": {
    "name": "ipython",
    "version": 3
   },
   "file_extension": ".py",
   "mimetype": "text/x-python",
   "name": "python",
   "nbconvert_exporter": "python",
   "pygments_lexer": "ipython3",
   "version": "3.7.3"
  },
  "orig_nbformat": 4
 },
 "nbformat": 4,
 "nbformat_minor": 2
}
