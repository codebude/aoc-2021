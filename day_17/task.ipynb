{
 "cells": [
  {
   "cell_type": "markdown",
   "metadata": {},
   "source": [
    "## Part 1 & 2\n",
    "> - What is the highest y position it reaches on this trajectory?\n",
    "> - How many distinct initial velocity values cause the probe to be within the target area after any step?"
   ]
  },
  {
   "cell_type": "code",
   "execution_count": 12,
   "metadata": {},
   "outputs": [
    {
     "name": "stdout",
     "output_type": "stream",
     "text": [
      "x_t=17, y_t=124, success=True, max_height=7750, valid_vects=4120\n"
     ]
    },
    {
     "data": {
      "image/png": "[encoded data removed]",
      "text/plain": [
       "<Figure size 432x288 with 1 Axes>"
      ]
     },
     "metadata": {
      "needs_background": "light"
     },
     "output_type": "display_data"
    }
   ],
   "source": [
    "import re\n",
    "import matplotlib.pyplot as plt\n",
    "import matplotlib.patches as patches\n",
    "from scipy.ndimage.filters import gaussian_filter1d\n",
    "from itertools import product\n",
    "\n",
    "# Parse input to binary string\n",
    "target = {k:int(v) for k,v in re.search(r\"x=(?P<x1>-?\\d+)..(?P<x2>-?\\d+), y=(?P<y1>-?\\d+)..(?P<y2>-?\\d+)\", open(\"input.txt\").read()).groupdict().items()}\n",
    "\n",
    "\n",
    "def calc_curve(_velo: tuple[int,int], _target: dict, _points: list) -> tuple[bool, int, list[tuple[int,int]]]:\n",
    "    curr_pos = _points[-1]\n",
    "    new_pos = (curr_pos[0]+_velo[0], curr_pos[1]+_velo[1])\n",
    "    _points.append(new_pos)\n",
    "    if _target[\"x1\"] <= new_pos[0] <= _target[\"x2\"] and _target[\"y1\"] <= new_pos[1] <= _target[\"y2\"]:\n",
    "        return (True, max([y for x, y in _points]), _points)\n",
    "    elif new_pos[0] > _target[\"x2\"] or new_pos[1] < _target[\"y1\"]:\n",
    "        return (False, max([y for x, y in _points]), _points)\n",
    "    else:\n",
    "        return calc_curve((max(_velo[0]-1,0),_velo[1]-1), _target, _points)\n",
    "\n",
    "\n",
    "def optimize(target: dict) -> tuple[tuple[int,int], list]:    \n",
    "    valid_pairs = [(x,y,calc_curve((x,y), target, [(0,0)])[1]) for x, y in product(range(min(target[\"y1\"],target[\"y2\"]),max(target[\"x1\"],target[\"x2\"])+1),repeat=2) if calc_curve((x,y), target, [(0,0)])[0]]    \n",
    "    return max(valid_pairs, key = lambda t: t[2])[:2], valid_pairs\n",
    "\n",
    "\n",
    "# Print result\n",
    "opt, valid_vects = optimize(target)\n",
    "x_t, y_t = opt\n",
    "success, max_height, points = calc_curve((x_t,y_t), target, [(0,0)])\n",
    "\n",
    "print(f\"{x_t=}, {y_t=}, {success=}, {max_height=}, valid_vects={len(valid_vects)}\")\n",
    "\n",
    "# Plot curve\n",
    "x, y = tuple(zip(*points))\n",
    "fig, ax = plt.subplots()\n",
    "ax.add_patch(patches.Rectangle((target[\"x1\"], target[\"y1\"]), \n",
    "                                target[\"x2\"]-target[\"x1\"], \n",
    "                                target[\"y2\"]-target[\"y1\"], \n",
    "                                linewidth=2, \n",
    "                                edgecolor='#FF0000', \n",
    "                                facecolor='#FFB6C1'))\n",
    "ysmoothed = gaussian_filter1d(y, sigma=0.01)\n",
    "plt.plot(x, ysmoothed)\n",
    "ax.scatter (x, y)\n",
    "ax.grid()"
   ]
  }
 ],
 "metadata": {
  "interpreter": {
   "hash": "20d2fb5681eadd3d7e80224cb54f791c4b9f5c0fc52a6b0b6a66aeadc1a25de4"
  },
  "kernelspec": {
   "display_name": "Python 3.7.3 64-bit ('.venv': venv)",
   "language": "python",
   "name": "python3"
  },
  "language_info": {
   "codemirror_mode": {
    "name": "ipython",
    "version": 3
   },
   "file_extension": ".py",
   "mimetype": "text/x-python",
   "name": "python",
   "nbconvert_exporter": "python",
   "pygments_lexer": "ipython3",
   "version": "3.10.0"
  },
  "orig_nbformat": 4
 },
 "nbformat": 4,
 "nbformat_minor": 2
}
