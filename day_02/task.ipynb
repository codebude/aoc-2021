{
 "cells": [
  {
   "cell_type": "code",
   "execution_count": 64,
   "metadata": {},
   "outputs": [],
   "source": [
    "# import ...\n",
    "\n",
    "# Load data\n",
    "lines = [(x.split(' ')[0][0], int(x.split(' ')[1])) for x in open(\"input.txt\").readlines()]"
   ]
  },
  {
   "cell_type": "markdown",
   "metadata": {},
   "source": [
    "## Part 1\n",
    "> Calculate the horizontal position and depth you would have after following the planned course. What do you get if you multiply your final horizontal position by your final depth?"
   ]
  },
  {
   "cell_type": "code",
   "execution_count": 65,
   "metadata": {},
   "outputs": [
    {
     "name": "stdout",
     "output_type": "stream",
     "text": [
      "2070300 is the final's position sum.\n"
     ]
    }
   ],
   "source": [
    "result_xy = {\n",
    "   \"x\": sum(v for d, v in lines if d == \"f\"),\n",
    "   \"y\": sum(v*(1 if d == \"d\" else -1) for d, v in lines if d != \"f\")\n",
    "}\n",
    "result = result_xy[\"x\"] * result_xy[\"y\"]\n",
    "print(f\"{result} is the final's position sum.\")"
   ]
  },
  {
   "cell_type": "markdown",
   "metadata": {},
   "source": [
    "## Part 2\n",
    "> Task..."
   ]
  },
  {
   "cell_type": "code",
   "execution_count": 66,
   "metadata": {},
   "outputs": [
    {
     "name": "stdout",
     "output_type": "stream",
     "text": [
      "2078985210 is the final's position sum.\n"
     ]
    }
   ],
   "source": [
    "class Target:\n",
    "    x: int = 0\n",
    "    y: int = 0\n",
    "    aim: int = 0\n",
    "\n",
    "    def __init__(self, lines: dict):\n",
    "        for d, v in lines:\n",
    "            if d in [\"d\", \"u\"]:\n",
    "                self.aim += v * (-1 if d == \"u\" else 1)\n",
    "            else:\n",
    "                self.x += v\n",
    "                self.y += self.aim * v\n",
    "    \n",
    "    def result(self):\n",
    "        return self.x * self.y\n",
    "\n",
    "result = Target(lines).result()\n",
    "print(f\"{result} is the final's position sum.\")"
   ]
  }
 ],
 "metadata": {
  "interpreter": {
   "hash": "20d2fb5681eadd3d7e80224cb54f791c4b9f5c0fc52a6b0b6a66aeadc1a25de4"
  },
  "kernelspec": {
   "display_name": "Python 3.7.3 64-bit ('.venv': venv)",
   "language": "python",
   "name": "python3"
  },
  "language_info": {
   "codemirror_mode": {
    "name": "ipython",
    "version": 3
   },
   "file_extension": ".py",
   "mimetype": "text/x-python",
   "name": "python",
   "nbconvert_exporter": "python",
   "pygments_lexer": "ipython3",
   "version": "3.7.3"
  },
  "orig_nbformat": 4
 },
 "nbformat": 4,
 "nbformat_minor": 2
}
