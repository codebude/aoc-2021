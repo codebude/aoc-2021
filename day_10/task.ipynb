{
 "cells": [
  {
   "cell_type": "code",
   "execution_count": 102,
   "metadata": {},
   "outputs": [],
   "source": [
    "from math import floor\n",
    "from collections import deque\n",
    "# Load data\n",
    "inp = open(\"input.txt\").read().splitlines()"
   ]
  },
  {
   "cell_type": "markdown",
   "metadata": {},
   "source": [
    "## Part 1\n",
    "> Find the first illegal character in each corrupted line of the navigation subsystem. What is the total syntax error score for those errors?"
   ]
  },
  {
   "cell_type": "code",
   "execution_count": 103,
   "metadata": {},
   "outputs": [
    {
     "name": "stdout",
     "output_type": "stream",
     "text": [
      "318081\n"
     ]
    }
   ],
   "source": [
    "p = { \"(\": \")\", \"[\": \"]\", \"{\": \"}\", \"<\": \">\" }\n",
    "score = { \")\": 3, \"]\": 57, \"}\": 1197, \">\": 25137 }\n",
    "\n",
    "def find_syntax_err(cmd: str) -> list:\n",
    "    s = deque(cmd[0])\n",
    "    err = {}\n",
    "    for i, x in enumerate(list(cmd[1:])):\n",
    "        if x in [\"(\",\"[\",\"{\",\"<\"]:\n",
    "            s.append(x)\n",
    "        elif s[-1] == \"(\" and x == \")\" or ord(s[-1]) == ord(x)-2:\n",
    "            s.pop()\n",
    "        else:\n",
    "            err[i] = x\n",
    "    s_r = s.copy()\n",
    "    s_r.reverse()\n",
    "    return {\"errors\": err, \"stack\": s, \"stack_r\": [p[x] for x in s_r] }\n",
    "\n",
    "check_result = [find_syntax_err(x) for x in inp]\n",
    "\n",
    "result = sum([score[x[\"errors\"][list(x[\"errors\"].keys())[0]]] for x in check_result if len(x[\"errors\"]) > 0])\n",
    "print(result)"
   ]
  },
  {
   "cell_type": "markdown",
   "metadata": {},
   "source": [
    "## Part 2\n",
    "> Find the completion string for each incomplete line, score the completion strings, and sort the scores. What is the middle score?"
   ]
  },
  {
   "cell_type": "code",
   "execution_count": 104,
   "metadata": {},
   "outputs": [
    {
     "name": "stdout",
     "output_type": "stream",
     "text": [
      "4361305341\n"
     ]
    }
   ],
   "source": [
    "score_2 = { \")\": 1, \"]\": 2, \"}\": 3, \">\": 4 }\n",
    "final_scores = []\n",
    "for c in [x[\"stack_r\"] for x in check_result if len(x[\"errors\"]) == 0]:\n",
    "    score = 0\n",
    "    for x in c:\n",
    "        score = score * 5 + score_2[x]\n",
    "    final_scores.append(score)\n",
    "    \n",
    "result = (final_scores.sort() or final_scores)[floor(len(final_scores)/2)]\n",
    "print(result)"
   ]
  }
 ],
 "metadata": {
  "interpreter": {
   "hash": "20d2fb5681eadd3d7e80224cb54f791c4b9f5c0fc52a6b0b6a66aeadc1a25de4"
  },
  "kernelspec": {
   "display_name": "Python 3.7.3 64-bit ('.venv': venv)",
   "language": "python",
   "name": "python3"
  },
  "language_info": {
   "codemirror_mode": {
    "name": "ipython",
    "version": 3
   },
   "file_extension": ".py",
   "mimetype": "text/x-python",
   "name": "python",
   "nbconvert_exporter": "python",
   "pygments_lexer": "ipython3",
   "version": "3.10.0"
  },
  "orig_nbformat": 4
 },
 "nbformat": 4,
 "nbformat_minor": 2
}
