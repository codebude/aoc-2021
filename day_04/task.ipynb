{
 "cells": [
  {
   "cell_type": "code",
   "execution_count": 52,
   "metadata": {},
   "outputs": [],
   "source": [
    "from typing import List, Dict\n",
    "from itertools import groupby\n",
    "# Load data\n",
    "lines = open(\"input.txt\").read().splitlines()"
   ]
  },
  {
   "cell_type": "markdown",
   "metadata": {},
   "source": [
    "## Part 1 and 2\n",
    "> What will your final score be if you choose the first/last winning board?"
   ]
  },
  {
   "cell_type": "code",
   "execution_count": 54,
   "metadata": {},
   "outputs": [
    {
     "name": "stdout",
     "output_type": "stream",
     "text": [
      "First winning board: 4512, Last winning board: 1924\n"
     ]
    }
   ],
   "source": [
    "class BingoBoard:\n",
    "    _rows: List[Dict[int, bool]]\n",
    "    _won: bool = False\n",
    "    _winning_number: int\n",
    "\n",
    "    def __init__(self, inp: List[str]):\n",
    "        self._rows = [{int(y): False for y in x.split(\" \") if y != \"\"} for x in inp]\n",
    "        return\n",
    "\n",
    "    def mark_num(self, num: int) -> bool:\n",
    "        if self._won:\n",
    "            return False\n",
    "        for row in self._rows:\n",
    "            row[num] = True\n",
    "        self._won = self._is_winner()\n",
    "        if self._won:\n",
    "            self._winning_number = num\n",
    "        return self._won\n",
    "\n",
    "    def get_value(self):\n",
    "        return self._winning_number * sum((sum((k for (k, v) in d.items() if not v)) for d in self._rows))\n",
    "\n",
    "    def _is_winner(self):\n",
    "        any_valid_row = any((all(x.values()) for x in self._rows))\n",
    "        any_valid_col = any(all(d[list(d.keys())[i]] for d in self._rows) for i in range(0,5))\n",
    "        return any_valid_row or any_valid_col\n",
    "               \n",
    "\n",
    "\n",
    "class BingoSolver:\n",
    "    _boards: List[BingoBoard]\n",
    "    _winning_nums: List[int]\n",
    "    _first_winner: int = None\n",
    "    _last_winner: int = None\n",
    "\n",
    "    def __init__(self, inp: List[str]):\n",
    "        self._winning_nums = [int(x) for x in inp[0].split(\",\")]\n",
    "        self._boards = [BingoBoard(list(group)) for k, group in groupby(inp[1:], lambda x: x == \"\") if not k]\n",
    "        self._solve()\n",
    "        return\n",
    "\n",
    "    def _solve(self):\n",
    "        for num in self._winning_nums:\n",
    "            for i, board in enumerate(self._boards):\n",
    "                if board.mark_num(num):\n",
    "                    if self._first_winner is None:\n",
    "                        self._first_winner = i\n",
    "                    self._last_winner = i\n",
    "        return\n",
    "\n",
    "    def _get_first_winner(self) -> BingoBoard:\n",
    "        return self._boards[self._first_winner]\n",
    "\n",
    "    def _get_last_winner(self) -> BingoBoard:\n",
    "        return self._boards[self._last_winner] \n",
    "\n",
    "\n",
    "solver = BingoSolver(lines)\n",
    "print(f\"First winning board: {solver._get_first_winner().get_value()}, Last winning board: {solver._get_last_winner().get_value()}\")"
   ]
  }
 ],
 "metadata": {
  "interpreter": {
   "hash": "20d2fb5681eadd3d7e80224cb54f791c4b9f5c0fc52a6b0b6a66aeadc1a25de4"
  },
  "kernelspec": {
   "display_name": "Python 3.7.3 64-bit ('.venv': venv)",
   "language": "python",
   "name": "python3"
  },
  "language_info": {
   "codemirror_mode": {
    "name": "ipython",
    "version": 3
   },
   "file_extension": ".py",
   "mimetype": "text/x-python",
   "name": "python",
   "nbconvert_exporter": "python",
   "pygments_lexer": "ipython3",
   "version": "3.7.3"
  },
  "orig_nbformat": 4
 },
 "nbformat": 4,
 "nbformat_minor": 2
}
